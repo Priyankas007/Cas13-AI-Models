{
 "cells": [
  {
   "cell_type": "markdown",
   "id": "pediatric-accommodation",
   "metadata": {},
   "source": [
    "# Cas13 Sequence to Sequence Optimal Guide Design"
   ]
  },
  {
   "cell_type": "code",
   "execution_count": 4,
   "id": "armed-fiber",
   "metadata": {},
   "outputs": [
    {
     "name": "stdout",
     "output_type": "stream",
     "text": [
      "Collecting biopython\n",
      "  Downloading biopython-1.78-cp38-cp38-macosx_10_9_x86_64.whl (2.2 MB)\n",
      "\u001b[K     |████████████████████████████████| 2.2 MB 6.7 MB/s eta 0:00:01\n",
      "\u001b[?25hRequirement already satisfied: numpy in ./lib/python3.8/site-packages (from biopython) (1.19.5)\n",
      "Installing collected packages: biopython\n",
      "Successfully installed biopython-1.78\n",
      "\u001b[33mWARNING: You are using pip version 21.0.1; however, version 21.1.1 is available.\n",
      "You should consider upgrading via the '/Users/priyankashrestha/rnn/bin/python -m pip install --upgrade pip' command.\u001b[0m\n",
      "Note: you may need to restart the kernel to use updated packages.\n"
     ]
    }
   ],
   "source": [
    "pip install biopython"
   ]
  },
  {
   "cell_type": "code",
   "execution_count": 2,
   "id": "welsh-bobby",
   "metadata": {},
   "outputs": [],
   "source": [
    "import keras\n",
    "from tensorflow.keras.models import Model\n",
    "from tensorflow.keras.layers import Input, LSTM, Dense\n",
    "import numpy as np\n",
    "import Bio\n",
    "from Bio import SeqIO\n",
    "from Bio.Seq import Seq\n",
    "from Bio import Entrez\n",
    "Entrez.email = \"shrestp@stanford.edu\"\n",
    "import pandas as pd\n",
    "import re\n",
    "from pprint import pprint\n",
    "import matplotlib.pyplot as plt"
   ]
  },
  {
   "cell_type": "code",
   "execution_count": 3,
   "id": "micro-satellite",
   "metadata": {},
   "outputs": [],
   "source": [
    "corona_guides_path = r\"/Users/priyankashrestha/Documents/research/seq2seq/Coronavirus.MN908947_NY1-PV08001.S_CasRxguides.csv\"\n",
    "corona_genome_path = r\"/Users/priyankashrestha/Documents/research/seq2seq/Coronavirus.MN908947_NY1-PV08001.fasta\""
   ]
  },
  {
   "cell_type": "code",
   "execution_count": 4,
   "id": "crucial-travel",
   "metadata": {},
   "outputs": [],
   "source": [
    "df = pd.read_csv(corona_guides_path, usecols=['GuideSeq', 'GuideScores'])\n",
    "corona_guides = df['GuideSeq'].values.tolist()\n",
    "corona_genome = SeqIO.parse(corona_genome_path, \"fasta\")"
   ]
  },
  {
   "cell_type": "code",
   "execution_count": 5,
   "id": "greatest-penalty",
   "metadata": {},
   "outputs": [
    {
     "data": {
      "text/html": [
       "<div>\n",
       "<style scoped>\n",
       "    .dataframe tbody tr th:only-of-type {\n",
       "        vertical-align: middle;\n",
       "    }\n",
       "\n",
       "    .dataframe tbody tr th {\n",
       "        vertical-align: top;\n",
       "    }\n",
       "\n",
       "    .dataframe thead th {\n",
       "        text-align: right;\n",
       "    }\n",
       "</style>\n",
       "<table border=\"1\" class=\"dataframe\">\n",
       "  <thead>\n",
       "    <tr style=\"text-align: right;\">\n",
       "      <th></th>\n",
       "      <th>GuideSeq</th>\n",
       "      <th>GuideScores</th>\n",
       "    </tr>\n",
       "  </thead>\n",
       "  <tbody>\n",
       "    <tr>\n",
       "      <th>0</th>\n",
       "      <td>CCACATAATAAGCTGCAGCACCA</td>\n",
       "      <td>1.659528</td>\n",
       "    </tr>\n",
       "    <tr>\n",
       "      <th>1</th>\n",
       "      <td>CACATAATAAGCTGCAGCACCAG</td>\n",
       "      <td>1.578299</td>\n",
       "    </tr>\n",
       "    <tr>\n",
       "      <th>2</th>\n",
       "      <td>CCCACATAATAAGCTGCAGCACC</td>\n",
       "      <td>1.550406</td>\n",
       "    </tr>\n",
       "    <tr>\n",
       "      <th>3</th>\n",
       "      <td>AACCCACATAATAAGCTGCAGCA</td>\n",
       "      <td>1.547846</td>\n",
       "    </tr>\n",
       "    <tr>\n",
       "      <th>4</th>\n",
       "      <td>ACATAATAAGCTGCAGCACCAGC</td>\n",
       "      <td>1.544357</td>\n",
       "    </tr>\n",
       "    <tr>\n",
       "      <th>...</th>\n",
       "      <td>...</td>\n",
       "      <td>...</td>\n",
       "    </tr>\n",
       "    <tr>\n",
       "      <th>3602</th>\n",
       "      <td>TTTTAAAATAACCATCAATATTC</td>\n",
       "      <td>-0.174768</td>\n",
       "    </tr>\n",
       "    <tr>\n",
       "      <th>3603</th>\n",
       "      <td>AAACATTAGAACCTGTAGAATAA</td>\n",
       "      <td>-0.185012</td>\n",
       "    </tr>\n",
       "    <tr>\n",
       "      <th>3604</th>\n",
       "      <td>ATTTTAAAATAACCATCAATATT</td>\n",
       "      <td>-0.191938</td>\n",
       "    </tr>\n",
       "    <tr>\n",
       "      <th>3605</th>\n",
       "      <td>TATTTTAAAATAACCATCAATAT</td>\n",
       "      <td>-0.196843</td>\n",
       "    </tr>\n",
       "    <tr>\n",
       "      <th>3606</th>\n",
       "      <td>TTAGAATATATTTTAAAATAACC</td>\n",
       "      <td>-0.200750</td>\n",
       "    </tr>\n",
       "  </tbody>\n",
       "</table>\n",
       "<p>3607 rows × 2 columns</p>\n",
       "</div>"
      ],
      "text/plain": [
       "                     GuideSeq  GuideScores\n",
       "0     CCACATAATAAGCTGCAGCACCA     1.659528\n",
       "1     CACATAATAAGCTGCAGCACCAG     1.578299\n",
       "2     CCCACATAATAAGCTGCAGCACC     1.550406\n",
       "3     AACCCACATAATAAGCTGCAGCA     1.547846\n",
       "4     ACATAATAAGCTGCAGCACCAGC     1.544357\n",
       "...                       ...          ...\n",
       "3602  TTTTAAAATAACCATCAATATTC    -0.174768\n",
       "3603  AAACATTAGAACCTGTAGAATAA    -0.185012\n",
       "3604  ATTTTAAAATAACCATCAATATT    -0.191938\n",
       "3605  TATTTTAAAATAACCATCAATAT    -0.196843\n",
       "3606  TTAGAATATATTTTAAAATAACC    -0.200750\n",
       "\n",
       "[3607 rows x 2 columns]"
      ]
     },
     "execution_count": 5,
     "metadata": {},
     "output_type": "execute_result"
    }
   ],
   "source": [
    "df"
   ]
  },
  {
   "cell_type": "code",
   "execution_count": 6,
   "id": "korean-bridges",
   "metadata": {},
   "outputs": [],
   "source": [
    "# make a dictionary mapping each guide sequence to its corresponding score\n",
    "guide_to_score = pd.Series(df.GuideScores.values,index=df.GuideSeq).to_dict()"
   ]
  },
  {
   "cell_type": "code",
   "execution_count": 7,
   "id": "entire-province",
   "metadata": {},
   "outputs": [],
   "source": [
    "genome = [] # list with a single entry containing the corona virus genome as Seq objects\n",
    "guides = [] # list containing all of the coronavirus guides as Seq objects\n",
    "\n",
    "for seq_record in corona_genome:\n",
    "    genome = seq_record.seq\n",
    "    \n",
    "for guide in corona_guides:\n",
    "    seq_guide = Seq(guide)\n",
    "    guides.append(seq_guide)\n",
    "    "
   ]
  },
  {
   "cell_type": "code",
   "execution_count": 8,
   "id": "listed-think",
   "metadata": {},
   "outputs": [
    {
     "name": "stdout",
     "output_type": "stream",
     "text": [
      "The total number of guides in the dataset is: 3607\n",
      "The Coronavirus genome is 29903 nucleotides long\n"
     ]
    }
   ],
   "source": [
    "print(\"The total number of guides in the dataset is:\", len(guides))\n",
    "print(\"The Coronavirus genome is \" + str(len(str(genome))) + \" nucleotides long\")"
   ]
  },
  {
   "cell_type": "markdown",
   "id": "acceptable-fundamentals",
   "metadata": {},
   "source": [
    "step 1: split genome into 100 nucleotide sections\n",
    "\n",
    "step 2: find all guides that are in that region\n",
    "\n",
    "step 3: find the highest scoring guide in that region "
   ]
  },
  {
   "cell_type": "code",
   "execution_count": 9,
   "id": "julian-binary",
   "metadata": {},
   "outputs": [],
   "source": [
    "def genome_splitter(s, n):\n",
    "    \"\"\" produce 's'- nucleotide chunks from genome. \"\"\"\n",
    "    for start in range(0, len(genome)):\n",
    "        yield s[start:start+n]\n",
    "        \n",
    "def rc(guide):\n",
    "    \"\"\" return the reverse complement of a guide \"\"\"\n",
    "    return str(Seq(guide).reverse_complement())\n",
    "\n",
    "def guide_in_segment(guide, segment):\n",
    "    \"\"\" return whether or not the guide is in the segment \"\"\"\n",
    "    return guide in segment or rc(guide) in segment\n",
    "\n",
    "def find_guides(split_genome, guide_list):\n",
    "    \"\"\" find all of the guides that fall within each section of the split genome\"\"\"\n",
    "    dat = {segment : [] for segment in split_genome}\n",
    "    for guide in guide_list:\n",
    "        for segment in split_genome:\n",
    "            if (guide_in_segment(guide, segment)):\n",
    "                dat[segment].append(guide)\n",
    "    return dat\n",
    "\n",
    "def find_best_guide(segment_to_guides, guide_to_score):\n",
    "    new_dat = {}\n",
    "    guide_scores = []\n",
    "    for segment, guide_list in segment_to_guides.items():\n",
    "        for guide in guide_list:\n",
    "            guide_score = [guide_to_score[guide], guide]\n",
    "            guide_scores.append(guide_score)\n",
    "            max_score, best_guide = max(guide_scores)\n",
    "            new_dat[segment] = best_guide\n",
    "    return new_dat  \n",
    "\n",
    "def prepare_inputs(guide_list):\n",
    "    # append the start character (\\t) and the end character (\\n) to the input sequences\n",
    "    prepared_guides = []\n",
    "    for guide in guide_list:\n",
    "        prepared_guides.append('\\t' + str(guide_list[i]) + '\\n')\n",
    "    return prepared_guides    "
   ]
  },
  {
   "cell_type": "code",
   "execution_count": 10,
   "id": "fitting-anthropology",
   "metadata": {},
   "outputs": [],
   "source": [
    "split_genome = []\n",
    "for subset in genome_splitter(genome, 100):\n",
    "    split_genome.append(str(subset))"
   ]
  },
  {
   "cell_type": "code",
   "execution_count": 14,
   "id": "overhead-possession",
   "metadata": {},
   "outputs": [],
   "source": [
    "segment_to_guides = find_guides(split_genome, corona_guides)"
   ]
  },
  {
   "cell_type": "code",
   "execution_count": 15,
   "id": "ecological-spiritual",
   "metadata": {},
   "outputs": [],
   "source": [
    "segment_to_best_guide = find_best_guide(segment_to_guides, guide_to_score)"
   ]
  },
  {
   "cell_type": "markdown",
   "id": "robust-title",
   "metadata": {},
   "source": [
    "## Data Preparation for Model"
   ]
  },
  {
   "cell_type": "code",
   "execution_count": 17,
   "id": "structural-paste",
   "metadata": {},
   "outputs": [],
   "source": [
    "batch_size = 64  # Batch size for training.\n",
    "epochs = 100  # Number of epochs to train for.\n",
    "latent_dim = 256  # Latent dimensionality of the encoding space.\n",
    "num_samples = 10000  # Number of samples to train on."
   ]
  },
  {
   "cell_type": "code",
   "execution_count": 18,
   "id": "unlike-caution",
   "metadata": {},
   "outputs": [],
   "source": [
    "# vectorize the data\n",
    "input_texts = []\n",
    "target_texts = []\n",
    "input_characters = set()\n",
    "target_characters = set()"
   ]
  },
  {
   "cell_type": "code",
   "execution_count": 19,
   "id": "scenic-petite",
   "metadata": {},
   "outputs": [],
   "source": [
    "# initialize data with lists from above\n",
    "input_texts = list(segment_to_best_guide.keys())\n",
    "target_texts = list(segment_to_best_guide.values())"
   ]
  },
  {
   "cell_type": "code",
   "execution_count": 20,
   "id": "literary-support",
   "metadata": {},
   "outputs": [],
   "source": [
    "# types of characters in input and output = 'A', 'C', 'G', 'T'\n",
    "\n",
    "for input_text in input_texts:\n",
    "    for char in input_text:\n",
    "        if char not in input_characters:\n",
    "            input_characters.add(char)\n",
    "            \n",
    "for target_text in target_texts:\n",
    "    for char in target_text:\n",
    "        if char not in target_characters:\n",
    "            target_characters.add(char)"
   ]
  },
  {
   "cell_type": "code",
   "execution_count": 21,
   "id": "detected-cutting",
   "metadata": {},
   "outputs": [],
   "source": [
    "input_characters = sorted(list(input_characters))\n",
    "target_characters = sorted(list(target_characters))\n",
    "num_encoder_tokens = len(input_characters)\n",
    "num_decoder_tokens = len(target_characters)\n",
    "max_encoder_seq_length = max([len(txt) for txt in input_texts])\n",
    "max_decoder_seq_length = max([len(txt) for txt in target_texts])"
   ]
  },
  {
   "cell_type": "code",
   "execution_count": 22,
   "id": "obvious-teddy",
   "metadata": {},
   "outputs": [
    {
     "name": "stdout",
     "output_type": "stream",
     "text": [
      "Number of samples: 3877\n",
      "Number of unique input tokens: 4\n",
      "Number of unique output tokens: 4\n",
      "Max sequence length for inputs: 100\n",
      "Max sequence length for outputs: 23\n"
     ]
    }
   ],
   "source": [
    "print(\"Number of samples:\", len(input_texts))\n",
    "print(\"Number of unique input tokens:\", num_encoder_tokens)\n",
    "print(\"Number of unique output tokens:\", num_decoder_tokens)\n",
    "print(\"Max sequence length for inputs:\", max_encoder_seq_length)\n",
    "print(\"Max sequence length for outputs:\", max_decoder_seq_length)"
   ]
  },
  {
   "cell_type": "code",
   "execution_count": 23,
   "id": "intelligent-veteran",
   "metadata": {},
   "outputs": [],
   "source": [
    "input_token_index = dict([(char, i) for i, char in enumerate(input_characters)])\n",
    "target_token_index = dict([(char, i) for i, char in enumerate(target_characters)])"
   ]
  },
  {
   "cell_type": "code",
   "execution_count": 24,
   "id": "established-labor",
   "metadata": {},
   "outputs": [],
   "source": [
    "encoder_input_data = np.zeros(\n",
    "    (len(input_texts), max_encoder_seq_length, num_encoder_tokens), dtype=\"float32\"\n",
    ")\n",
    "decoder_input_data = np.zeros(\n",
    "    (len(input_texts), max_decoder_seq_length, num_decoder_tokens), dtype=\"float32\"\n",
    ")\n",
    "decoder_target_data = np.zeros(\n",
    "    (len(input_texts), max_decoder_seq_length, num_decoder_tokens), dtype=\"float32\"\n",
    ")"
   ]
  },
  {
   "cell_type": "code",
   "execution_count": 25,
   "id": "economic-lesson",
   "metadata": {},
   "outputs": [],
   "source": [
    "for i, (input_text, target_text) in enumerate(zip(input_texts, target_texts)):\n",
    "    for t, char in enumerate(input_text):\n",
    "        encoder_input_data[i, t, input_token_index[char]] = 1.0\n",
    "    #encoder_input_data[i, t + 1 :, input_token_index[\" \"]] = 1.0\n",
    "    for t, char in enumerate(target_text):\n",
    "        # decoder_target_data is ahead of decoder_input_data by one timestep\n",
    "        decoder_input_data[i, t, target_token_index[char]] = 1.0\n",
    "        if t > 0:\n",
    "            # decoder_target_data will be ahead by one timestep\n",
    "            # and will not include the start character.\n",
    "            decoder_target_data[i, t - 1, target_token_index[char]] = 1.0\n",
    "    #decoder_input_data[i, t + 1 :, target_token_index[\" \"]] = 1.0\n",
    "    #decoder_target_data[i, t:, target_token_index[\" \"]] = 1.0"
   ]
  },
  {
   "cell_type": "code",
   "execution_count": 26,
   "id": "artistic-finance",
   "metadata": {},
   "outputs": [],
   "source": [
    "# Define an input sequence and process it.\n",
    "encoder_inputs = keras.Input(shape=(None, num_encoder_tokens), name='input')\n",
    "encoder = keras.layers.LSTM(latent_dim, return_state=True, name = 'lstm_1')\n",
    "encoder_outputs, state_h, state_c = encoder(encoder_inputs)\n",
    "\n",
    "# We discard `encoder_outputs` and only keep the states.\n",
    "encoder_states = [state_h, state_c]\n",
    "\n",
    "# Set up the decoder, using `encoder_states` as initial state.\n",
    "decoder_inputs = keras.Input(shape=(None, num_decoder_tokens), name='input_2')\n",
    "\n",
    "# We set up our decoder to return full output sequences,\n",
    "# and to return internal states as well. We don't use the\n",
    "# return states in the training model, but we will use them in inference.\n",
    "decoder_lstm = keras.layers.LSTM(latent_dim, return_sequences=True, return_state=True, name='lstm_2')\n",
    "decoder_outputs, _, _ = decoder_lstm(decoder_inputs, initial_state=encoder_states)\n",
    "decoder_dense = keras.layers.Dense(num_decoder_tokens, activation=\"softmax\", name='dense_1')\n",
    "decoder_outputs = decoder_dense(decoder_outputs)\n",
    "\n",
    "# Define the model that will turn\n",
    "# `encoder_input_data` & `decoder_input_data` into `decoder_target_data`\n",
    "model = keras.Model([encoder_inputs, decoder_inputs], decoder_outputs)"
   ]
  },
  {
   "cell_type": "code",
   "execution_count": 27,
   "id": "returning-television",
   "metadata": {},
   "outputs": [
    {
     "name": "stdout",
     "output_type": "stream",
     "text": [
      "Model: \"model\"\n",
      "__________________________________________________________________________________________________\n",
      "Layer (type)                    Output Shape         Param #     Connected to                     \n",
      "==================================================================================================\n",
      "input (InputLayer)              [(None, None, 4)]    0                                            \n",
      "__________________________________________________________________________________________________\n",
      "input_2 (InputLayer)            [(None, None, 4)]    0                                            \n",
      "__________________________________________________________________________________________________\n",
      "lstm_1 (LSTM)                   [(None, 256), (None, 267264      input[0][0]                      \n",
      "__________________________________________________________________________________________________\n",
      "lstm_2 (LSTM)                   [(None, None, 256),  267264      input_2[0][0]                    \n",
      "                                                                 lstm_1[0][1]                     \n",
      "                                                                 lstm_1[0][2]                     \n",
      "__________________________________________________________________________________________________\n",
      "dense_1 (Dense)                 (None, None, 4)      1028        lstm_2[0][0]                     \n",
      "==================================================================================================\n",
      "Total params: 535,556\n",
      "Trainable params: 535,556\n",
      "Non-trainable params: 0\n",
      "__________________________________________________________________________________________________\n"
     ]
    }
   ],
   "source": [
    "model.summary()"
   ]
  },
  {
   "cell_type": "code",
   "execution_count": 28,
   "id": "coral-complexity",
   "metadata": {},
   "outputs": [
    {
     "name": "stdout",
     "output_type": "stream",
     "text": [
      "Epoch 1/100\n",
      "49/49 [==============================] - 12s 192ms/step - loss: 1.2046 - accuracy: 0.4198 - val_loss: 0.8912 - val_accuracy: 0.6076\n",
      "Epoch 2/100\n",
      "49/49 [==============================] - 9s 175ms/step - loss: 0.9483 - accuracy: 0.5552 - val_loss: 0.7677 - val_accuracy: 0.7826\n",
      "Epoch 3/100\n",
      "49/49 [==============================] - 9s 179ms/step - loss: 0.7926 - accuracy: 0.6985 - val_loss: 0.3914 - val_accuracy: 1.0000\n",
      "Epoch 4/100\n",
      "49/49 [==============================] - 9s 184ms/step - loss: 0.5853 - accuracy: 0.7877 - val_loss: 0.4276 - val_accuracy: 0.8696\n",
      "Epoch 5/100\n",
      "49/49 [==============================] - 9s 187ms/step - loss: 0.4263 - accuracy: 0.8399 - val_loss: 0.1497 - val_accuracy: 0.9565\n",
      "Epoch 6/100\n",
      "49/49 [==============================] - 9s 188ms/step - loss: 0.2759 - accuracy: 0.9042 - val_loss: 0.1857 - val_accuracy: 0.9300\n",
      "Epoch 7/100\n",
      "49/49 [==============================] - 9s 179ms/step - loss: 0.2325 - accuracy: 0.9221 - val_loss: 0.0375 - val_accuracy: 1.0000\n",
      "Epoch 8/100\n",
      "49/49 [==============================] - 9s 182ms/step - loss: 0.1498 - accuracy: 0.9515 - val_loss: 0.1072 - val_accuracy: 0.9130\n",
      "Epoch 9/100\n",
      "49/49 [==============================] - 9s 177ms/step - loss: 0.1446 - accuracy: 0.9394 - val_loss: 0.0237 - val_accuracy: 1.0000\n",
      "Epoch 10/100\n",
      "49/49 [==============================] - 8s 173ms/step - loss: 0.1158 - accuracy: 0.9491 - val_loss: 0.0266 - val_accuracy: 0.9565\n",
      "Epoch 11/100\n",
      "49/49 [==============================] - 9s 177ms/step - loss: 0.1035 - accuracy: 0.9498 - val_loss: 0.0224 - val_accuracy: 0.9565\n",
      "Epoch 12/100\n",
      "49/49 [==============================] - 9s 177ms/step - loss: 0.0994 - accuracy: 0.9535 - val_loss: 0.0166 - val_accuracy: 0.9565\n",
      "Epoch 13/100\n",
      "49/49 [==============================] - 9s 176ms/step - loss: 0.0760 - accuracy: 0.9396 - val_loss: 0.0126 - val_accuracy: 0.9565\n",
      "Epoch 14/100\n",
      "49/49 [==============================] - 9s 174ms/step - loss: 0.0802 - accuracy: 0.9345 - val_loss: 0.0137 - val_accuracy: 0.9565\n",
      "Epoch 15/100\n",
      "49/49 [==============================] - 9s 180ms/step - loss: 0.0809 - accuracy: 0.9362 - val_loss: 0.0136 - val_accuracy: 1.0000\n",
      "Epoch 16/100\n",
      "49/49 [==============================] - 9s 174ms/step - loss: 0.0852 - accuracy: 0.9333 - val_loss: 0.0378 - val_accuracy: 0.9565\n",
      "Epoch 17/100\n",
      "49/49 [==============================] - 8s 173ms/step - loss: 0.0695 - accuracy: 0.9377 - val_loss: 0.0102 - val_accuracy: 0.9565\n",
      "Epoch 18/100\n",
      "49/49 [==============================] - 9s 174ms/step - loss: 0.0567 - accuracy: 0.9430 - val_loss: 0.0090 - val_accuracy: 0.9565\n",
      "Epoch 19/100\n",
      "49/49 [==============================] - 10s 204ms/step - loss: 0.0545 - accuracy: 0.9455 - val_loss: 0.0076 - val_accuracy: 0.9565\n",
      "Epoch 20/100\n",
      "49/49 [==============================] - 10s 203ms/step - loss: 0.0478 - accuracy: 0.9462 - val_loss: 0.0080 - val_accuracy: 0.9565\n",
      "Epoch 21/100\n",
      "49/49 [==============================] - 10s 212ms/step - loss: 0.0488 - accuracy: 0.9475 - val_loss: 0.0079 - val_accuracy: 0.9565\n",
      "Epoch 22/100\n",
      "49/49 [==============================] - 10s 195ms/step - loss: 0.0410 - accuracy: 0.9494 - val_loss: 0.0081 - val_accuracy: 0.9565\n",
      "Epoch 23/100\n",
      "49/49 [==============================] - 9s 186ms/step - loss: 0.0358 - accuracy: 0.9507 - val_loss: 0.0077 - val_accuracy: 0.9565\n",
      "Epoch 24/100\n",
      "49/49 [==============================] - 9s 174ms/step - loss: 0.0402 - accuracy: 0.9493 - val_loss: 0.0082 - val_accuracy: 0.9565\n",
      "Epoch 25/100\n",
      "49/49 [==============================] - 9s 177ms/step - loss: 0.0362 - accuracy: 0.9495 - val_loss: 0.0069 - val_accuracy: 0.9565\n",
      "Epoch 26/100\n",
      "49/49 [==============================] - 9s 177ms/step - loss: 0.0333 - accuracy: 0.9508 - val_loss: 0.0067 - val_accuracy: 0.9565\n",
      "Epoch 27/100\n",
      "49/49 [==============================] - 8s 172ms/step - loss: 0.0361 - accuracy: 0.9497 - val_loss: 0.0065 - val_accuracy: 0.9565\n",
      "Epoch 28/100\n",
      "49/49 [==============================] - 9s 177ms/step - loss: 0.0340 - accuracy: 0.9500 - val_loss: 0.0065 - val_accuracy: 0.9565\n",
      "Epoch 29/100\n",
      "49/49 [==============================] - 9s 175ms/step - loss: 0.0329 - accuracy: 0.9505 - val_loss: 0.0135 - val_accuracy: 0.9565\n",
      "Epoch 30/100\n",
      "49/49 [==============================] - 9s 174ms/step - loss: 0.0297 - accuracy: 0.9520 - val_loss: 0.0065 - val_accuracy: 0.9565\n",
      "Epoch 31/100\n",
      "49/49 [==============================] - 9s 175ms/step - loss: 0.0319 - accuracy: 0.9510 - val_loss: 0.0065 - val_accuracy: 0.9565\n",
      "Epoch 32/100\n",
      "49/49 [==============================] - 9s 179ms/step - loss: 0.0295 - accuracy: 0.9518 - val_loss: 0.0066 - val_accuracy: 0.9565\n",
      "Epoch 33/100\n",
      "49/49 [==============================] - 9s 174ms/step - loss: 0.0315 - accuracy: 0.9508 - val_loss: 0.0062 - val_accuracy: 0.9565\n",
      "Epoch 34/100\n",
      "49/49 [==============================] - 9s 174ms/step - loss: 0.0273 - accuracy: 0.9527 - val_loss: 0.0064 - val_accuracy: 0.9565\n",
      "Epoch 35/100\n",
      "49/49 [==============================] - 9s 176ms/step - loss: 0.0267 - accuracy: 0.9527 - val_loss: 0.0057 - val_accuracy: 0.9565\n",
      "Epoch 36/100\n",
      "49/49 [==============================] - 8s 174ms/step - loss: 0.0270 - accuracy: 0.9526 - val_loss: 0.0059 - val_accuracy: 0.9565\n",
      "Epoch 37/100\n",
      "49/49 [==============================] - 9s 175ms/step - loss: 0.0251 - accuracy: 0.9531 - val_loss: 0.0060 - val_accuracy: 0.9565\n",
      "Epoch 38/100\n",
      "49/49 [==============================] - 9s 174ms/step - loss: 0.0253 - accuracy: 0.9530 - val_loss: 0.0062 - val_accuracy: 0.9565\n",
      "Epoch 39/100\n",
      "49/49 [==============================] - 8s 172ms/step - loss: 0.0260 - accuracy: 0.9528 - val_loss: 0.0056 - val_accuracy: 0.9565\n",
      "Epoch 40/100\n",
      "49/49 [==============================] - 8s 173ms/step - loss: 0.0245 - accuracy: 0.9531 - val_loss: 0.0055 - val_accuracy: 0.9565\n",
      "Epoch 41/100\n",
      "49/49 [==============================] - 9s 175ms/step - loss: 0.0232 - accuracy: 0.9537 - val_loss: 0.0045 - val_accuracy: 0.9565\n",
      "Epoch 42/100\n",
      "49/49 [==============================] - 9s 176ms/step - loss: 0.0254 - accuracy: 0.9522 - val_loss: 0.0044 - val_accuracy: 0.9565\n",
      "Epoch 43/100\n",
      "49/49 [==============================] - 8s 172ms/step - loss: 0.0241 - accuracy: 0.9529 - val_loss: 0.0047 - val_accuracy: 0.9565\n",
      "Epoch 44/100\n",
      "49/49 [==============================] - 9s 174ms/step - loss: 0.0216 - accuracy: 0.9540 - val_loss: 0.0046 - val_accuracy: 0.9565\n",
      "Epoch 45/100\n",
      "49/49 [==============================] - 9s 176ms/step - loss: 0.0205 - accuracy: 0.9541 - val_loss: 0.0049 - val_accuracy: 0.9565\n",
      "Epoch 46/100\n",
      "49/49 [==============================] - 9s 175ms/step - loss: 0.0219 - accuracy: 0.9537 - val_loss: 0.0045 - val_accuracy: 0.9565\n",
      "Epoch 47/100\n",
      "49/49 [==============================] - 9s 177ms/step - loss: 0.0218 - accuracy: 0.9536 - val_loss: 0.0044 - val_accuracy: 0.9565\n",
      "Epoch 48/100\n",
      "49/49 [==============================] - 9s 174ms/step - loss: 0.0180 - accuracy: 0.9547 - val_loss: 0.0043 - val_accuracy: 0.9565\n",
      "Epoch 49/100\n",
      "49/49 [==============================] - 9s 178ms/step - loss: 0.0200 - accuracy: 0.9539 - val_loss: 0.0041 - val_accuracy: 0.9565\n",
      "Epoch 50/100\n",
      "49/49 [==============================] - 9s 177ms/step - loss: 0.0191 - accuracy: 0.9542 - val_loss: 0.0041 - val_accuracy: 0.9565\n",
      "Epoch 51/100\n",
      "49/49 [==============================] - 9s 179ms/step - loss: 0.0203 - accuracy: 0.9536 - val_loss: 0.0040 - val_accuracy: 0.9565\n",
      "Epoch 52/100\n",
      "49/49 [==============================] - 9s 178ms/step - loss: 0.0188 - accuracy: 0.9543 - val_loss: 0.0038 - val_accuracy: 0.9565\n",
      "Epoch 53/100\n",
      "49/49 [==============================] - 9s 177ms/step - loss: 0.0196 - accuracy: 0.9539 - val_loss: 0.0041 - val_accuracy: 0.9565\n",
      "Epoch 54/100\n",
      "49/49 [==============================] - 9s 175ms/step - loss: 0.0188 - accuracy: 0.9541 - val_loss: 0.0040 - val_accuracy: 0.9565\n",
      "Epoch 55/100\n",
      "49/49 [==============================] - 9s 174ms/step - loss: 0.0185 - accuracy: 0.9540 - val_loss: 0.0038 - val_accuracy: 0.9565\n",
      "Epoch 56/100\n",
      "49/49 [==============================] - 9s 177ms/step - loss: 0.0193 - accuracy: 0.9539 - val_loss: 0.0036 - val_accuracy: 0.9565\n",
      "Epoch 57/100\n",
      "49/49 [==============================] - 9s 177ms/step - loss: 0.0180 - accuracy: 0.9542 - val_loss: 0.0037 - val_accuracy: 0.9565\n"
     ]
    },
    {
     "name": "stdout",
     "output_type": "stream",
     "text": [
      "Epoch 58/100\n",
      "49/49 [==============================] - 9s 177ms/step - loss: 0.0178 - accuracy: 0.9540 - val_loss: 0.0037 - val_accuracy: 0.9565\n",
      "Epoch 59/100\n",
      "49/49 [==============================] - 9s 177ms/step - loss: 0.0182 - accuracy: 0.9540 - val_loss: 0.0036 - val_accuracy: 0.9565\n",
      "Epoch 60/100\n",
      "49/49 [==============================] - 9s 178ms/step - loss: 0.0181 - accuracy: 0.9542 - val_loss: 0.0034 - val_accuracy: 0.9565\n",
      "Epoch 61/100\n",
      "49/49 [==============================] - 9s 176ms/step - loss: 0.0171 - accuracy: 0.9546 - val_loss: 0.0034 - val_accuracy: 0.9565\n",
      "Epoch 62/100\n",
      "49/49 [==============================] - 9s 192ms/step - loss: 0.0169 - accuracy: 0.9546 - val_loss: 0.0036 - val_accuracy: 0.9565\n",
      "Epoch 63/100\n",
      "49/49 [==============================] - 9s 181ms/step - loss: 0.0157 - accuracy: 0.9550 - val_loss: 0.0034 - val_accuracy: 0.9565\n",
      "Epoch 64/100\n",
      "49/49 [==============================] - 8s 174ms/step - loss: 0.0159 - accuracy: 0.9548 - val_loss: 0.0033 - val_accuracy: 0.9565\n",
      "Epoch 65/100\n",
      "49/49 [==============================] - 8s 173ms/step - loss: 0.0158 - accuracy: 0.9549 - val_loss: 0.0032 - val_accuracy: 0.9565\n",
      "Epoch 66/100\n",
      "49/49 [==============================] - 9s 175ms/step - loss: 0.0166 - accuracy: 0.9545 - val_loss: 0.0032 - val_accuracy: 0.9565\n",
      "Epoch 67/100\n",
      "49/49 [==============================] - 9s 175ms/step - loss: 0.0168 - accuracy: 0.9544 - val_loss: 0.0031 - val_accuracy: 0.9565\n",
      "Epoch 68/100\n",
      "49/49 [==============================] - 10s 208ms/step - loss: 0.0159 - accuracy: 0.9545 - val_loss: 0.0030 - val_accuracy: 0.9565\n",
      "Epoch 69/100\n",
      "49/49 [==============================] - 9s 190ms/step - loss: 0.0161 - accuracy: 0.9545 - val_loss: 0.0030 - val_accuracy: 0.9565\n",
      "Epoch 70/100\n",
      "49/49 [==============================] - 9s 179ms/step - loss: 0.0153 - accuracy: 0.9548 - val_loss: 0.0029 - val_accuracy: 0.9565\n",
      "Epoch 71/100\n",
      "49/49 [==============================] - 9s 175ms/step - loss: 0.0157 - accuracy: 0.9546 - val_loss: 0.0026 - val_accuracy: 0.9565\n",
      "Epoch 72/100\n",
      "49/49 [==============================] - 8s 173ms/step - loss: 0.0145 - accuracy: 0.9548 - val_loss: 0.0027 - val_accuracy: 0.9565\n",
      "Epoch 73/100\n",
      "49/49 [==============================] - 9s 175ms/step - loss: 0.0160 - accuracy: 0.9544 - val_loss: 0.0026 - val_accuracy: 0.9565\n",
      "Epoch 74/100\n",
      "49/49 [==============================] - 9s 187ms/step - loss: 0.0154 - accuracy: 0.9546 - val_loss: 0.0025 - val_accuracy: 0.9565\n",
      "Epoch 75/100\n",
      "49/49 [==============================] - 10s 197ms/step - loss: 0.0144 - accuracy: 0.9547 - val_loss: 0.0023 - val_accuracy: 0.9565\n",
      "Epoch 76/100\n",
      "49/49 [==============================] - 10s 199ms/step - loss: 0.0137 - accuracy: 0.9549 - val_loss: 0.0024 - val_accuracy: 0.9565\n",
      "Epoch 77/100\n",
      "49/49 [==============================] - 9s 185ms/step - loss: 0.0125 - accuracy: 0.9553 - val_loss: 0.0023 - val_accuracy: 0.9565\n",
      "Epoch 78/100\n",
      "49/49 [==============================] - 9s 178ms/step - loss: 0.0130 - accuracy: 0.9553 - val_loss: 0.0024 - val_accuracy: 0.9565\n",
      "Epoch 79/100\n",
      "49/49 [==============================] - 9s 177ms/step - loss: 0.0134 - accuracy: 0.9551 - val_loss: 0.0023 - val_accuracy: 0.9565\n",
      "Epoch 80/100\n",
      "49/49 [==============================] - 9s 176ms/step - loss: 0.0139 - accuracy: 0.9547 - val_loss: 0.0022 - val_accuracy: 0.9565\n",
      "Epoch 81/100\n",
      "49/49 [==============================] - 9s 176ms/step - loss: 0.0134 - accuracy: 0.9552 - val_loss: 0.0022 - val_accuracy: 0.9565\n",
      "Epoch 82/100\n",
      "49/49 [==============================] - 9s 178ms/step - loss: 0.0125 - accuracy: 0.9553 - val_loss: 0.0022 - val_accuracy: 0.9565\n",
      "Epoch 83/100\n",
      "49/49 [==============================] - 9s 175ms/step - loss: 0.0127 - accuracy: 0.9551 - val_loss: 0.0022 - val_accuracy: 0.9565\n",
      "Epoch 84/100\n",
      "49/49 [==============================] - 8s 171ms/step - loss: 0.0135 - accuracy: 0.9550 - val_loss: 0.0022 - val_accuracy: 0.9565\n",
      "Epoch 85/100\n",
      "49/49 [==============================] - 9s 178ms/step - loss: 0.0144 - accuracy: 0.9548 - val_loss: 0.0022 - val_accuracy: 0.9565\n",
      "Epoch 86/100\n",
      "49/49 [==============================] - 9s 174ms/step - loss: 0.0125 - accuracy: 0.9551 - val_loss: 0.0022 - val_accuracy: 0.9565\n",
      "Epoch 87/100\n",
      "49/49 [==============================] - 9s 180ms/step - loss: 0.0127 - accuracy: 0.9550 - val_loss: 0.0021 - val_accuracy: 0.9565\n",
      "Epoch 88/100\n",
      "49/49 [==============================] - 9s 178ms/step - loss: 0.0127 - accuracy: 0.9550 - val_loss: 0.0022 - val_accuracy: 0.9565\n",
      "Epoch 89/100\n",
      "49/49 [==============================] - 9s 187ms/step - loss: 0.0126 - accuracy: 0.9552 - val_loss: 0.0021 - val_accuracy: 0.9565\n",
      "Epoch 90/100\n",
      "49/49 [==============================] - 9s 189ms/step - loss: 0.0135 - accuracy: 0.9550 - val_loss: 0.0021 - val_accuracy: 0.9565\n",
      "Epoch 91/100\n",
      "49/49 [==============================] - 9s 180ms/step - loss: 0.0122 - accuracy: 0.9551 - val_loss: 0.0021 - val_accuracy: 0.9565\n",
      "Epoch 92/100\n",
      "49/49 [==============================] - 9s 186ms/step - loss: 0.0127 - accuracy: 0.9551 - val_loss: 0.0021 - val_accuracy: 0.9565\n",
      "Epoch 93/100\n",
      "49/49 [==============================] - 9s 180ms/step - loss: 0.0120 - accuracy: 0.9552 - val_loss: 0.0021 - val_accuracy: 0.9565\n",
      "Epoch 94/100\n",
      "49/49 [==============================] - 9s 180ms/step - loss: 0.0132 - accuracy: 0.9548 - val_loss: 0.0021 - val_accuracy: 0.9565\n",
      "Epoch 95/100\n",
      "49/49 [==============================] - 9s 174ms/step - loss: 0.0114 - accuracy: 0.9554 - val_loss: 0.0020 - val_accuracy: 0.9565\n",
      "Epoch 96/100\n",
      "49/49 [==============================] - 9s 174ms/step - loss: 0.0121 - accuracy: 0.9553 - val_loss: 0.0020 - val_accuracy: 0.9565\n",
      "Epoch 97/100\n",
      "49/49 [==============================] - 9s 190ms/step - loss: 0.0121 - accuracy: 0.9553 - val_loss: 0.0020 - val_accuracy: 0.9565\n",
      "Epoch 98/100\n",
      "49/49 [==============================] - 9s 178ms/step - loss: 0.0131 - accuracy: 0.9549 - val_loss: 0.0019 - val_accuracy: 0.9565\n",
      "Epoch 99/100\n",
      "49/49 [==============================] - 9s 178ms/step - loss: 0.0125 - accuracy: 0.9551 - val_loss: 0.0020 - val_accuracy: 0.9565\n",
      "Epoch 100/100\n",
      "49/49 [==============================] - 9s 176ms/step - loss: 0.0118 - accuracy: 0.9553 - val_loss: 0.0019 - val_accuracy: 0.9565\n"
     ]
    },
    {
     "name": "stderr",
     "output_type": "stream",
     "text": [
      "WARNING:absl:Found untraced functions such as lstm_cell_layer_call_and_return_conditional_losses, lstm_cell_layer_call_fn, lstm_cell_1_layer_call_and_return_conditional_losses, lstm_cell_1_layer_call_fn, lstm_cell_layer_call_fn while saving (showing 5 of 10). These functions will not be directly callable after loading.\n",
      "WARNING:absl:Found untraced functions such as lstm_cell_layer_call_and_return_conditional_losses, lstm_cell_layer_call_fn, lstm_cell_1_layer_call_and_return_conditional_losses, lstm_cell_1_layer_call_fn, lstm_cell_layer_call_fn while saving (showing 5 of 10). These functions will not be directly callable after loading.\n"
     ]
    },
    {
     "name": "stdout",
     "output_type": "stream",
     "text": [
      "INFO:tensorflow:Assets written to: predict_guide_test/assets\n"
     ]
    },
    {
     "name": "stderr",
     "output_type": "stream",
     "text": [
      "INFO:tensorflow:Assets written to: predict_guide_test/assets\n"
     ]
    }
   ],
   "source": [
    "model.compile(\n",
    "    optimizer=\"rmsprop\", loss=\"categorical_crossentropy\", metrics=[\"accuracy\"]\n",
    ")\n",
    "model.fit(\n",
    "    [encoder_input_data, decoder_input_data],\n",
    "    decoder_target_data,\n",
    "    batch_size=batch_size,\n",
    "    epochs=epochs,\n",
    "    validation_split=0.2,\n",
    ")\n",
    "\n",
    "model.save(\"predict_guide_test\")"
   ]
  },
  {
   "cell_type": "code",
   "execution_count": null,
   "id": "bound-painting",
   "metadata": {},
   "outputs": [],
   "source": []
  },
  {
   "cell_type": "code",
   "execution_count": 29,
   "id": "other-spoke",
   "metadata": {},
   "outputs": [],
   "source": [
    "model = keras.models.load_model(\"predict_guide_test\")\n",
    "\n",
    "encoder_inputs = model.input[0]  # input_1\n",
    "encoder_outputs, state_h_enc, state_c_enc = model.layers[2].output  # lstm_1\n",
    "encoder_states = [state_h_enc, state_c_enc]\n",
    "encoder_model = keras.Model(encoder_inputs, encoder_states)\n",
    "\n",
    "decoder_inputs = model.input[1]  # input_2\n",
    "decoder_state_input_h = keras.Input(shape=(latent_dim,), name=\"input_3\")\n",
    "decoder_state_input_c = keras.Input(shape=(latent_dim,), name=\"input_4\")\n",
    "decoder_states_inputs = [decoder_state_input_h, decoder_state_input_c]\n",
    "decoder_lstm = model.layers[3]\n",
    "decoder_outputs, state_h_dec, state_c_dec = decoder_lstm(\n",
    "    decoder_inputs, initial_state=decoder_states_inputs\n",
    ")\n",
    "decoder_states = [state_h_dec, state_c_dec]\n",
    "decoder_dense = model.layers[4]\n",
    "decoder_outputs = decoder_dense(decoder_outputs)"
   ]
  },
  {
   "cell_type": "code",
   "execution_count": 30,
   "id": "stock-dating",
   "metadata": {},
   "outputs": [
    {
     "name": "stdout",
     "output_type": "stream",
     "text": [
      "[<KerasTensor: shape=(None, None, 4) dtype=float32 (created by layer 'input')>, <KerasTensor: shape=(None, None, 4) dtype=float32 (created by layer 'input_2')>]\n"
     ]
    }
   ],
   "source": [
    "print(model.input)"
   ]
  },
  {
   "cell_type": "code",
   "execution_count": 31,
   "id": "environmental-kazakhstan",
   "metadata": {},
   "outputs": [
    {
     "data": {
      "text/plain": [
       "<KerasTensor: shape=(None, None, 4) dtype=float32 (created by layer 'input_2')>"
      ]
     },
     "execution_count": 31,
     "metadata": {},
     "output_type": "execute_result"
    }
   ],
   "source": [
    "decoder_inputs"
   ]
  },
  {
   "cell_type": "code",
   "execution_count": 32,
   "id": "negative-integral",
   "metadata": {},
   "outputs": [
    {
     "data": {
      "text/plain": [
       "[<KerasTensor: shape=(None, 256) dtype=float32 (created by layer 'input_3')>,\n",
       " <KerasTensor: shape=(None, 256) dtype=float32 (created by layer 'input_4')>]"
      ]
     },
     "execution_count": 32,
     "metadata": {},
     "output_type": "execute_result"
    }
   ],
   "source": [
    "decoder_states_inputs"
   ]
  },
  {
   "cell_type": "code",
   "execution_count": 33,
   "id": "domestic-absorption",
   "metadata": {},
   "outputs": [
    {
     "data": {
      "text/plain": [
       "<KerasTensor: shape=(None, None, 4) dtype=float32 (created by layer 'dense_1')>"
      ]
     },
     "execution_count": 33,
     "metadata": {},
     "output_type": "execute_result"
    }
   ],
   "source": [
    "decoder_outputs"
   ]
  },
  {
   "cell_type": "code",
   "execution_count": 34,
   "id": "noted-forestry",
   "metadata": {},
   "outputs": [
    {
     "data": {
      "text/plain": [
       "[<KerasTensor: shape=(None, 256) dtype=float32 (created by layer 'lstm_2')>,\n",
       " <KerasTensor: shape=(None, 256) dtype=float32 (created by layer 'lstm_2')>]"
      ]
     },
     "execution_count": 34,
     "metadata": {},
     "output_type": "execute_result"
    }
   ],
   "source": [
    "decoder_states"
   ]
  },
  {
   "cell_type": "code",
   "execution_count": 35,
   "id": "transparent-title",
   "metadata": {},
   "outputs": [],
   "source": [
    "decoder_model = keras.Model(\n",
    "    [decoder_inputs] + decoder_states_inputs, [decoder_outputs] + decoder_states\n",
    ")"
   ]
  },
  {
   "cell_type": "code",
   "execution_count": 36,
   "id": "filled-richmond",
   "metadata": {},
   "outputs": [],
   "source": [
    "# Reverse-lookup token index to decode sequences back to\n",
    "# something readable.\n",
    "reverse_input_char_index = dict((i, char) for char, i in input_token_index.items())\n",
    "reverse_target_char_index = dict((i, char) for char, i in target_token_index.items())"
   ]
  },
  {
   "cell_type": "code",
   "execution_count": 37,
   "id": "bright-compact",
   "metadata": {},
   "outputs": [],
   "source": [
    "def decode_sequence(input_seq):\n",
    "    # Encode the input as state vectors.\n",
    "    states_value = encoder_model.predict(input_seq)\n",
    "\n",
    "    # Generate empty target sequence of length 1.\n",
    "    target_seq = np.zeros((1, 1, num_decoder_tokens))\n",
    "    # Populate the first character of target sequence with the start character.\n",
    "    #target_seq[0, 0, target_token_index[\"\\t\"]] = 1.0\n",
    "\n",
    "    # Sampling loop for a batch of sequences\n",
    "    # (to simplify, here we assume a batch of size 1).\n",
    "    stop_condition = False\n",
    "    decoded_sentence = \"\"\n",
    "    while not stop_condition:\n",
    "        output_tokens, h, c = decoder_model.predict([target_seq] + states_value)\n",
    "\n",
    "        # Sample a token\n",
    "        sampled_token_index = np.argmax(output_tokens[0, -1, :])\n",
    "        sampled_char = reverse_target_char_index[sampled_token_index]\n",
    "        decoded_sentence += sampled_char\n",
    "\n",
    "        # Exit condition: either hit max length\n",
    "        # or find stop character.\n",
    "        if sampled_char == \"\\n\" or len(decoded_sentence) > max_decoder_seq_length:\n",
    "            stop_condition = True\n",
    "\n",
    "        # Update the target sequence (of length 1).\n",
    "        target_seq = np.zeros((1, 1, num_decoder_tokens))\n",
    "        target_seq[0, 0, sampled_token_index] = 1.0\n",
    "\n",
    "        # Update states\n",
    "        states_value = [h, c]\n",
    "    return decoded_sentence"
   ]
  },
  {
   "cell_type": "code",
   "execution_count": 38,
   "id": "nominated-plate",
   "metadata": {},
   "outputs": [
    {
     "name": "stdout",
     "output_type": "stream",
     "text": [
      "-\n",
      "Input DNA: TAAAGGTAGACTTATAATTAGAGAAAACAACAGAGTTGTTATTTCTAGTGATGTTCTTGTTAACAACTAAACGAACAATGTTTGTTTTTCTTGTTTTATT\n",
      "Predicted Optimal sgRNA: ATAAAACAAGAAAAACAAAAGGGG\n",
      "Actual Optimal sgRNA: AATAAAACAAGAAAAACAAACAT\n",
      "-\n",
      "Input DNA: AAAGGTAGACTTATAATTAGAGAAAACAACAGAGTTGTTATTTCTAGTGATGTTCTTGTTAACAACTAAACGAACAATGTTTGTTTTTCTTGTTTTATTG\n",
      "Predicted Optimal sgRNA: ACATAATAGCATGGAACCAAGGGG\n",
      "Actual Optimal sgRNA: AATAAAACAAGAAAAACAAACAT\n",
      "-\n",
      "Input DNA: AAGGTAGACTTATAATTAGAGAAAACAACAGAGTTGTTATTTCTAGTGATGTTCTTGTTAACAACTAAACGAACAATGTTTGTTTTTCTTGTTTTATTGC\n",
      "Predicted Optimal sgRNA: CAAGATAACAAGAAAAACAAGGGG\n",
      "Actual Optimal sgRNA: GCAATAAAACAAGAAAAACAAAC\n",
      "-\n",
      "Input DNA: AGGTAGACTTATAATTAGAGAAAACAACAGAGTTGTTATTTCTAGTGATGTTCTTGTTAACAACTAAACGAACAATGTTTGTTTTTCTTGTTTTATTGCC\n",
      "Predicted Optimal sgRNA: GTAAGATTAGCATACAGACTAGGG\n",
      "Actual Optimal sgRNA: GGCAATAAAACAAGAAAAACAAA\n",
      "-\n",
      "Input DNA: GGTAGACTTATAATTAGAGAAAACAACAGAGTTGTTATTTCTAGTGATGTTCTTGTTAACAACTAAACGAACAATGTTTGTTTTTCTTGTTTTATTGCCA\n",
      "Predicted Optimal sgRNA: GTAAGATAACAATAAAACAAGGGG\n",
      "Actual Optimal sgRNA: GGCAATAAAACAAGAAAAACAAA\n",
      "-\n",
      "Input DNA: GTAGACTTATAATTAGAGAAAACAACAGAGTTGTTATTTCTAGTGATGTTCTTGTTAACAACTAAACGAACAATGTTTGTTTTTCTTGTTTTATTGCCAC\n",
      "Predicted Optimal sgRNA: GTAAGATACCATGGAACAAAGGGG\n",
      "Actual Optimal sgRNA: GGCAATAAAACAAGAAAAACAAA\n",
      "-\n",
      "Input DNA: TAGACTTATAATTAGAGAAAACAACAGAGTTGTTATTTCTAGTGATGTTCTTGTTAACAACTAAACGAACAATGTTTGTTTTTCTTGTTTTATTGCCACT\n",
      "Predicted Optimal sgRNA: GTAAGAGACTAGTGGCAATAGGGG\n",
      "Actual Optimal sgRNA: GGCAATAAAACAAGAAAAACAAA\n",
      "-\n",
      "Input DNA: AGACTTATAATTAGAGAAAACAACAGAGTTGTTATTTCTAGTGATGTTCTTGTTAACAACTAAACGAACAATGTTTGTTTTTCTTGTTTTATTGCCACTA\n",
      "Predicted Optimal sgRNA: GTAAGAGTCAATAAAACAAGGGGG\n",
      "Actual Optimal sgRNA: GGCAATAAAACAAGAAAAACAAA\n",
      "-\n",
      "Input DNA: GACTTATAATTAGAGAAAACAACAGAGTTGTTATTTCTAGTGATGTTCTTGTTAACAACTAAACGAACAATGTTTGTTTTTCTTGTTTTATTGCCACTAG\n",
      "Predicted Optimal sgRNA: GCAATAAAACAAGAAAAACAAGGG\n",
      "Actual Optimal sgRNA: CTAGTGGCAATAAAACAAGAAAA\n",
      "-\n",
      "Input DNA: ACTTATAATTAGAGAAAACAACAGAGTTGTTATTTCTAGTGATGTTCTTGTTAACAACTAAACGAACAATGTTTGTTTTTCTTGTTTTATTGCCACTAGT\n",
      "Predicted Optimal sgRNA: CACATAATAAGCTGCAGCACCAGG\n",
      "Actual Optimal sgRNA: ACTAGTGGCAATAAAACAAGAAA\n",
      "-\n",
      "Input DNA: CTTATAATTAGAGAAAACAACAGAGTTGTTATTTCTAGTGATGTTCTTGTTAACAACTAAACGAACAATGTTTGTTTTTCTTGTTTTATTGCCACTAGTC\n",
      "Predicted Optimal sgRNA: GAGACTAGTGGCAATAAAACAAGG\n",
      "Actual Optimal sgRNA: GACTAGTGGCAATAAAACAAGAA\n",
      "-\n",
      "Input DNA: TTATAATTAGAGAAAACAACAGAGTTGTTATTTCTAGTGATGTTCTTGTTAACAACTAAACGAACAATGTTTGTTTTTCTTGTTTTATTGCCACTAGTCT\n",
      "Predicted Optimal sgRNA: GAGACTAGTGGCAATAAAACAAGG\n",
      "Actual Optimal sgRNA: GACTAGTGGCAATAAAACAAGAA\n",
      "-\n",
      "Input DNA: TATAATTAGAGAAAACAACAGAGTTGTTATTTCTAGTGATGTTCTTGTTAACAACTAAACGAACAATGTTTGTTTTTCTTGTTTTATTGCCACTAGTCTC\n",
      "Predicted Optimal sgRNA: GAGACTAGTGGCAATAAAACAAGG\n",
      "Actual Optimal sgRNA: GAGACTAGTGGCAATAAAACAAG\n",
      "-\n",
      "Input DNA: ATAATTAGAGAAAACAACAGAGTTGTTATTTCTAGTGATGTTCTTGTTAACAACTAAACGAACAATGTTTGTTTTTCTTGTTTTATTGCCACTAGTCTCT\n",
      "Predicted Optimal sgRNA: GAGACTAGTGGCAATAAAACAAGG\n",
      "Actual Optimal sgRNA: AGAGACTAGTGGCAATAAAACAA\n",
      "-\n",
      "Input DNA: TAATTAGAGAAAACAACAGAGTTGTTATTTCTAGTGATGTTCTTGTTAACAACTAAACGAACAATGTTTGTTTTTCTTGTTTTATTGCCACTAGTCTCTA\n",
      "Predicted Optimal sgRNA: GAGACTAGTGGCAATAAAACAAGG\n",
      "Actual Optimal sgRNA: AGAGACTAGTGGCAATAAAACAA\n",
      "-\n",
      "Input DNA: AATTAGAGAAAACAACAGAGTTGTTATTTCTAGTGATGTTCTTGTTAACAACTAAACGAACAATGTTTGTTTTTCTTGTTTTATTGCCACTAGTCTCTAG\n",
      "Predicted Optimal sgRNA: GAGACTAGTGGCAATAAAACAAGG\n",
      "Actual Optimal sgRNA: AGAGACTAGTGGCAATAAAACAA\n",
      "-\n",
      "Input DNA: ATTAGAGAAAACAACAGAGTTGTTATTTCTAGTGATGTTCTTGTTAACAACTAAACGAACAATGTTTGTTTTTCTTGTTTTATTGCCACTAGTCTCTAGT\n",
      "Predicted Optimal sgRNA: GAGACTAGTGGCAATAAAACAAGG\n",
      "Actual Optimal sgRNA: ACTAGAGACTAGTGGCAATAAAA\n",
      "-\n",
      "Input DNA: TTAGAGAAAACAACAGAGTTGTTATTTCTAGTGATGTTCTTGTTAACAACTAAACGAACAATGTTTGTTTTTCTTGTTTTATTGCCACTAGTCTCTAGTC\n",
      "Predicted Optimal sgRNA: GAGACTAGTGGCAATAAAACAAGG\n",
      "Actual Optimal sgRNA: GACTAGAGACTAGTGGCAATAAA\n",
      "-\n",
      "Input DNA: TAGAGAAAACAACAGAGTTGTTATTTCTAGTGATGTTCTTGTTAACAACTAAACGAACAATGTTTGTTTTTCTTGTTTTATTGCCACTAGTCTCTAGTCA\n",
      "Predicted Optimal sgRNA: GACACAATAGCAATAAAACAAGGG\n",
      "Actual Optimal sgRNA: TGACTAGAGACTAGTGGCAATAA\n",
      "-\n",
      "Input DNA: AGAGAAAACAACAGAGTTGTTATTTCTAGTGATGTTCTTGTTAACAACTAAACGAACAATGTTTGTTTTTCTTGTTTTATTGCCACTAGTCTCTAGTCAG\n",
      "Predicted Optimal sgRNA: TGACTAGTGGCAATAAAACAAGGG\n",
      "Actual Optimal sgRNA: CTGACTAGAGACTAGTGGCAATA\n"
     ]
    }
   ],
   "source": [
    "for seq_index in range(20):\n",
    "    # Take one sequence (part of the training set)\n",
    "    # for trying out decoding.\n",
    "    input_seq = encoder_input_data[seq_index : seq_index + 1]\n",
    "    decoded_sentence = decode_sequence(input_seq)\n",
    "    print(\"-\")\n",
    "    print(\"Input DNA:\", input_texts[seq_index])\n",
    "    print(\"Predicted Optimal sgRNA:\", decoded_sentence)\n",
    "    print(\"Actual Optimal sgRNA:\", target_texts[seq_index] )"
   ]
  },
  {
   "cell_type": "code",
   "execution_count": 39,
   "id": "spread-renaissance",
   "metadata": {},
   "outputs": [
    {
     "data": {
      "text/plain": [
       "'CTGACTAGAGACTAGTGGCAATA'"
      ]
     },
     "execution_count": 39,
     "metadata": {},
     "output_type": "execute_result"
    }
   ],
   "source": [
    "segment_to_best_guide['AGAGAAAACAACAGAGTTGTTATTTCTAGTGATGTTCTTGTTAACAACTAAACGAACAATGTTTGTTTTTCTTGTTTTATTGCCACTAGTCTCTAGTCAG']"
   ]
  },
  {
   "cell_type": "code",
   "execution_count": null,
   "id": "smart-psychiatry",
   "metadata": {},
   "outputs": [],
   "source": []
  },
  {
   "cell_type": "code",
   "execution_count": null,
   "id": "informational-suggestion",
   "metadata": {},
   "outputs": [],
   "source": []
  },
  {
   "cell_type": "code",
   "execution_count": null,
   "id": "useful-battery",
   "metadata": {},
   "outputs": [],
   "source": []
  },
  {
   "cell_type": "code",
   "execution_count": null,
   "id": "fixed-equation",
   "metadata": {},
   "outputs": [],
   "source": []
  },
  {
   "cell_type": "code",
   "execution_count": null,
   "id": "through-warrant",
   "metadata": {},
   "outputs": [],
   "source": []
  },
  {
   "cell_type": "code",
   "execution_count": null,
   "id": "comparable-traveler",
   "metadata": {},
   "outputs": [],
   "source": []
  },
  {
   "cell_type": "code",
   "execution_count": null,
   "id": "welsh-japan",
   "metadata": {},
   "outputs": [],
   "source": []
  },
  {
   "cell_type": "markdown",
   "id": "divided-peace",
   "metadata": {},
   "source": [
    "#### open coronavirus guides file:\n",
    "corona_genome = SeqIO.parse(sarscovgenome_path, \"fasta\")"
   ]
  },
  {
   "cell_type": "markdown",
   "id": "black-colony",
   "metadata": {},
   "source": [
    "genome = []\n",
    "for seq_record in sarscov_genome:\n",
    "    genome = str(seq_record.seq)"
   ]
  },
  {
   "cell_type": "markdown",
   "id": "parliamentary-resort",
   "metadata": {},
   "source": [
    "genome = genome[:-1]"
   ]
  },
  {
   "cell_type": "code",
   "execution_count": 7,
   "id": "japanese-understanding",
   "metadata": {},
   "outputs": [],
   "source": [
    "#bring in fasta file of possiible grna and put them in a list\n",
    "def make_list(grna_file):\n",
    "    grna_list = []\n",
    "\n",
    "    #create a list with all possible gRNA in order from most to least effective\n",
    "    for elem in grna_file:\n",
    "        grna_list.append(str(elem.seq))\n",
    "\n",
    "    return grna_list"
   ]
  },
  {
   "cell_type": "code",
   "execution_count": 8,
   "id": "understood-constitution",
   "metadata": {},
   "outputs": [],
   "source": [
    "corona_guides = make_list(corona_guides)"
   ]
  },
  {
   "cell_type": "code",
   "execution_count": 9,
   "id": "entitled-clarity",
   "metadata": {},
   "outputs": [],
   "source": [
    "corona_guides = corona_guides[:int(0.5*len(corona_guides))]"
   ]
  },
  {
   "cell_type": "code",
   "execution_count": 10,
   "id": "different-nudist",
   "metadata": {},
   "outputs": [],
   "source": [
    "for i in range(len(sarscov_guides)):\n",
    "    sarscov_guides[i] = '\\t' + sarscov_guides[i] + '\\n'"
   ]
  },
  {
   "cell_type": "code",
   "execution_count": null,
   "id": "affecting-acrobat",
   "metadata": {},
   "outputs": [],
   "source": []
  },
  {
   "cell_type": "code",
   "execution_count": null,
   "id": "supported-logging",
   "metadata": {},
   "outputs": [],
   "source": []
  },
  {
   "cell_type": "code",
   "execution_count": 186,
   "id": "willing-thousand",
   "metadata": {},
   "outputs": [],
   "source": [
    "def format_genome_index(locations):\n",
    "    for i in range (len(locations)):\n",
    "        locations[i] = locations[i][locations[i].find(':') + 1:]\n",
    "        locations[i] = re.split('-', locations[i])\n",
    "    \n",
    "    locations = locations[:int(0.5*len(locations))]\n",
    "    return locations\n",
    "\n",
    "def genome_parser(genome, index_list):\n",
    "    dna = []\n",
    "    for index in index_list:\n",
    "        dna.append(genome[int(index[0]):int(index[1])])\n",
    "    return dna"
   ]
  },
  {
   "cell_type": "code",
   "execution_count": 187,
   "id": "elect-spouse",
   "metadata": {},
   "outputs": [],
   "source": [
    "corona_guides_location = format_genome_index(corona_guides_location)"
   ]
  },
  {
   "cell_type": "code",
   "execution_count": 188,
   "id": "answering-greensboro",
   "metadata": {},
   "outputs": [],
   "source": [
    "corona_dna = genome_parser(genome, corona_guides_location)"
   ]
  },
  {
   "cell_type": "code",
   "execution_count": 189,
   "id": "protective-canberra",
   "metadata": {},
   "outputs": [],
   "source": [
    "df_prepared = pd.DataFrame(list(zip(corona_dna, corona_guides)))"
   ]
  },
  {
   "cell_type": "code",
   "execution_count": 190,
   "id": "occupational-begin",
   "metadata": {},
   "outputs": [
    {
     "data": {
      "text/html": [
       "<div>\n",
       "<style scoped>\n",
       "    .dataframe tbody tr th:only-of-type {\n",
       "        vertical-align: middle;\n",
       "    }\n",
       "\n",
       "    .dataframe tbody tr th {\n",
       "        vertical-align: top;\n",
       "    }\n",
       "\n",
       "    .dataframe thead th {\n",
       "        text-align: right;\n",
       "    }\n",
       "</style>\n",
       "<table border=\"1\" class=\"dataframe\">\n",
       "  <thead>\n",
       "    <tr style=\"text-align: right;\">\n",
       "      <th></th>\n",
       "      <th>0</th>\n",
       "      <th>1</th>\n",
       "    </tr>\n",
       "  </thead>\n",
       "  <tbody>\n",
       "    <tr>\n",
       "      <th>0</th>\n",
       "      <td>ACTCATGCGTGAGCTTAACGGA</td>\n",
       "      <td>\\tCCACATAATAAGCTGCAGCACCA\\n</td>\n",
       "    </tr>\n",
       "    <tr>\n",
       "      <th>1</th>\n",
       "      <td>AACTCATGCGTGAGCTTAACGG</td>\n",
       "      <td>\\tCACATAATAAGCTGCAGCACCAG\\n</td>\n",
       "    </tr>\n",
       "    <tr>\n",
       "      <th>2</th>\n",
       "      <td>CTCATGCGTGAGCTTAACGGAG</td>\n",
       "      <td>\\tCCCACATAATAAGCTGCAGCACC\\n</td>\n",
       "    </tr>\n",
       "    <tr>\n",
       "      <th>3</th>\n",
       "      <td>CATGCGTGAGCTTAACGGAGGG</td>\n",
       "      <td>\\tAACCCACATAATAAGCTGCAGCA\\n</td>\n",
       "    </tr>\n",
       "    <tr>\n",
       "      <th>4</th>\n",
       "      <td>GAACTCATGCGTGAGCTTAACG</td>\n",
       "      <td>\\tACATAATAAGCTGCAGCACCAGC\\n</td>\n",
       "    </tr>\n",
       "    <tr>\n",
       "      <th>...</th>\n",
       "      <td>...</td>\n",
       "      <td>...</td>\n",
       "    </tr>\n",
       "    <tr>\n",
       "      <th>1798</th>\n",
       "      <td>GATCATCAGCACATCTAGGTTT</td>\n",
       "      <td>\\tATCAAACCTCTTAGTACCATTGG\\n</td>\n",
       "    </tr>\n",
       "    <tr>\n",
       "      <th>1799</th>\n",
       "      <td>GCTGTTGTTAAAATTTATTGTC</td>\n",
       "      <td>\\tGACTTCCTAAACAATCTATACAG\\n</td>\n",
       "    </tr>\n",
       "    <tr>\n",
       "      <th>1800</th>\n",
       "      <td>CATGTGGGCGAAATACCAGTGG</td>\n",
       "      <td>\\tGAATATATTTTAAAATAACCATC\\n</td>\n",
       "    </tr>\n",
       "    <tr>\n",
       "      <th>1801</th>\n",
       "      <td>AACAGAAATCAATACTGAGTCC</td>\n",
       "      <td>\\tGACTTCTGTGCAGTTAACATCCT\\n</td>\n",
       "    </tr>\n",
       "    <tr>\n",
       "      <th>1802</th>\n",
       "      <td>TCTACTTAGCTGTCTTTGATAA</td>\n",
       "      <td>\\tGACTCCTTTGAGCACTGGCTCAG\\n</td>\n",
       "    </tr>\n",
       "  </tbody>\n",
       "</table>\n",
       "<p>1803 rows × 2 columns</p>\n",
       "</div>"
      ],
      "text/plain": [
       "                           0                            1\n",
       "0     ACTCATGCGTGAGCTTAACGGA  \\tCCACATAATAAGCTGCAGCACCA\\n\n",
       "1     AACTCATGCGTGAGCTTAACGG  \\tCACATAATAAGCTGCAGCACCAG\\n\n",
       "2     CTCATGCGTGAGCTTAACGGAG  \\tCCCACATAATAAGCTGCAGCACC\\n\n",
       "3     CATGCGTGAGCTTAACGGAGGG  \\tAACCCACATAATAAGCTGCAGCA\\n\n",
       "4     GAACTCATGCGTGAGCTTAACG  \\tACATAATAAGCTGCAGCACCAGC\\n\n",
       "...                      ...                          ...\n",
       "1798  GATCATCAGCACATCTAGGTTT  \\tATCAAACCTCTTAGTACCATTGG\\n\n",
       "1799  GCTGTTGTTAAAATTTATTGTC  \\tGACTTCCTAAACAATCTATACAG\\n\n",
       "1800  CATGTGGGCGAAATACCAGTGG  \\tGAATATATTTTAAAATAACCATC\\n\n",
       "1801  AACAGAAATCAATACTGAGTCC  \\tGACTTCTGTGCAGTTAACATCCT\\n\n",
       "1802  TCTACTTAGCTGTCTTTGATAA  \\tGACTCCTTTGAGCACTGGCTCAG\\n\n",
       "\n",
       "[1803 rows x 2 columns]"
      ]
     },
     "execution_count": 190,
     "metadata": {},
     "output_type": "execute_result"
    }
   ],
   "source": [
    "df_prepared"
   ]
  },
  {
   "cell_type": "code",
   "execution_count": null,
   "id": "agricultural-liquid",
   "metadata": {},
   "outputs": [],
   "source": []
  },
  {
   "cell_type": "code",
   "execution_count": null,
   "id": "activated-hands",
   "metadata": {},
   "outputs": [],
   "source": []
  },
  {
   "cell_type": "code",
   "execution_count": null,
   "id": "designing-maryland",
   "metadata": {},
   "outputs": [],
   "source": []
  },
  {
   "cell_type": "code",
   "execution_count": null,
   "id": "violent-billy",
   "metadata": {},
   "outputs": [],
   "source": []
  }
 ],
 "metadata": {
  "kernelspec": {
   "display_name": "Python 3",
   "language": "python",
   "name": "python3"
  },
  "language_info": {
   "codemirror_mode": {
    "name": "ipython",
    "version": 3
   },
   "file_extension": ".py",
   "mimetype": "text/x-python",
   "name": "python",
   "nbconvert_exporter": "python",
   "pygments_lexer": "ipython3",
   "version": "3.8.2"
  }
 },
 "nbformat": 4,
 "nbformat_minor": 5
}
