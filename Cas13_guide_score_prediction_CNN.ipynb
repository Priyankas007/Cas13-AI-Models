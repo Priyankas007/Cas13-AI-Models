{
 "cells": [
  {
   "cell_type": "markdown",
   "id": "russian-noise",
   "metadata": {},
   "source": [
    "# Cas13 Guide MFE Prediction CNN"
   ]
  },
  {
   "cell_type": "markdown",
   "id": "yellow-offense",
   "metadata": {},
   "source": [
    "By: Priyanka Shrestha"
   ]
  },
  {
   "cell_type": "code",
   "execution_count": 18,
   "id": "worth-password",
   "metadata": {},
   "outputs": [],
   "source": [
    "import pandas as pd\n",
    "import numpy as np\n",
    "import matplotlib.pyplot as plt\n",
    "import csv\n",
    "from tensorflow import keras\n",
    "from tensorflow.keras.preprocessing import sequence\n",
    "from tensorflow.keras.layers import *\n",
    "from tensorflow.keras.models import *\n",
    "from sklearn import preprocessing\n",
    "from sklearn.model_selection import train_test_split\n",
    "import neptune.new\n",
    "from neptunecontrib.monitoring.keras import NeptuneMonitor\n",
    "from keras.callbacks import Callback, ReduceLROnPlateau, EarlyStopping\n",
    "import re"
   ]
  },
  {
   "cell_type": "markdown",
   "id": "developmental-uniform",
   "metadata": {},
   "source": [
    "### Load the training and testing data"
   ]
  },
  {
   "cell_type": "code",
   "execution_count": 19,
   "id": "silent-toner",
   "metadata": {},
   "outputs": [],
   "source": [
    "# bring in only the columns of the sequence and guideScore\n",
    "df = pd.read_csv('firstcoronavirustest_CasRxguides.csv', usecols=['GuideSeq', 'GuideScores'])"
   ]
  },
  {
   "cell_type": "markdown",
   "id": "linear-pricing",
   "metadata": {},
   "source": [
    "### Prepare Data"
   ]
  },
  {
   "cell_type": "markdown",
   "id": "charitable-bruce",
   "metadata": {},
   "source": [
    "RNA sequences were encoded using vectors of dim-6, where the position of the 1.0 indicated which nucleotide was being encoded. A 1.0 in the 5th index indicated a non-ACGUT letter was encountered. "
   ]
  },
  {
   "cell_type": "code",
   "execution_count": 24,
   "id": "sticky-bloom",
   "metadata": {},
   "outputs": [],
   "source": [
    "def encodeRNA(sequences):\n",
    "    encoded_rna = []\n",
    "    for char in sequences:\n",
    "        if(char == 'A'):\n",
    "            encoded_rna.append([1.0,0.0,0.0,0.0,0.0,0.0])\n",
    "        elif(char == 'C'):\n",
    "            encoded_rna.append([0.0,1.0,0.0,0.0,0.0,0.0])\n",
    "        elif(char == 'G'):\n",
    "            encoded_rna.append([0.0,0.0,1.0,0.0,0.0,0.0])\n",
    "        elif(char == 'U'):\n",
    "            encoded_rna.append([0.0,0.0,0.0,1.0,0.0,0.0])\n",
    "        elif(char == 'T'):\n",
    "            encoded_rna.append([0.0,0.0,0.0,0.0,1.0,0.0])\n",
    "        else:\n",
    "            encode_rna.append([0.0,0.0,0.0,0,0.0,1.0])\n",
    "    return encoded_rna\n"
   ]
  },
  {
   "cell_type": "code",
   "execution_count": 25,
   "id": "selective-greenhouse",
   "metadata": {},
   "outputs": [],
   "source": [
    "def prepare_rna(df):\n",
    "    encoded_rna = []\n",
    "    for i in range (len(df['GuideSeq'])):\n",
    "        encoded_rna.append(encodeRNA(df['GuideSeq'][i]))\n",
    "    return encoded_rna"
   ]
  },
  {
   "cell_type": "code",
   "execution_count": 26,
   "id": "operational-oxford",
   "metadata": {},
   "outputs": [],
   "source": [
    "encoded_rna = prepare_rna(df)"
   ]
  },
  {
   "cell_type": "markdown",
   "id": "suitable-health",
   "metadata": {},
   "source": [
    "### Split data into trainig, validation, and testing data"
   ]
  },
  {
   "cell_type": "code",
   "execution_count": 28,
   "id": "durable-leather",
   "metadata": {},
   "outputs": [],
   "source": [
    "x_train, x_test, y_train, y_test = train_test_split(encoded_rna, df['GuideScores'], test_size = 0.3, random_state = 4)\n",
    "x_val, x_test, y_val, y_test = train_test_split(x_test, y_test, test_size = 0.3, random_state = 4,)\n"
   ]
  },
  {
   "cell_type": "code",
   "execution_count": 29,
   "id": "clinical-filename",
   "metadata": {},
   "outputs": [],
   "source": [
    "x_train = sequence.pad_sequences(x_train, dtype=float)\n",
    "x_test = sequence.pad_sequences(x_test, dtype=float)\n",
    "x_val = sequence.pad_sequences(x_val, dtype=float)"
   ]
  },
  {
   "cell_type": "markdown",
   "id": "polar-serve",
   "metadata": {},
   "source": [
    "### Build Model"
   ]
  },
  {
   "cell_type": "code",
   "execution_count": null,
   "id": "capable-athletics",
   "metadata": {},
   "outputs": [],
   "source": [
    "model_params = {\n",
    "        \"input_shape\" : [23,6],\n",
    "        \"lstm_hidden_size\" : 200,\n",
    "        \"num_layers\" : 6,\n",
    "        \"name\" : \"Cas13 Guide Score Prediction CNN\"\n",
    "    }"
   ]
  },
  {
   "cell_type": "code",
   "execution_count": 30,
   "id": "tight-december",
   "metadata": {},
   "outputs": [
    {
     "name": "stdout",
     "output_type": "stream",
     "text": [
      "Model: \"sequential\"\n",
      "_________________________________________________________________\n",
      "Layer (type)                 Output Shape              Param #   \n",
      "=================================================================\n",
      "lstm (LSTM)                  (None, 23, 200)           165600    \n",
      "_________________________________________________________________\n",
      "conv1d (Conv1D)              (None, 18, 10)            12010     \n",
      "_________________________________________________________________\n",
      "conv1d_1 (Conv1D)            (None, 16, 20)            620       \n",
      "_________________________________________________________________\n",
      "global_max_pooling1d (Global (None, 20)                0         \n",
      "_________________________________________________________________\n",
      "dense (Dense)                (None, 100)               2100      \n",
      "_________________________________________________________________\n",
      "dense_1 (Dense)              (None, 1)                 101       \n",
      "=================================================================\n",
      "Total params: 180,431\n",
      "Trainable params: 180,431\n",
      "Non-trainable params: 0\n",
      "_________________________________________________________________\n"
     ]
    }
   ],
   "source": [
    "model = Sequential()\n",
    "model.add(LSTM(200, input_shape=(23,6), activation ='tanh', return_sequences=True, dropout=0.2))\n",
    "model.add(Conv1D(10,6))\n",
    "model.add(Conv1D(20,3))\n",
    "model.add(GlobalMaxPooling1D())\n",
    "model.add(Dense(100))\n",
    "model.add(Dense(1))\n",
    "model.summary()"
   ]
  },
  {
   "cell_type": "code",
   "execution_count": 31,
   "id": "nearby-disability",
   "metadata": {},
   "outputs": [],
   "source": [
    "# compile model\n",
    "model.compile(\n",
    "    loss= keras.losses.MeanSquaredError(),\n",
    "    optimizer=keras.optimizers.Adam(),\n",
    "    metrics=['mean_squared_error']\n",
    "    )"
   ]
  },
  {
   "cell_type": "code",
   "execution_count": null,
   "id": "vertical-broadcasting",
   "metadata": {},
   "outputs": [],
   "source": [
    "# create a new experiment on Neptune.ai\n",
    "neptune.init(\n",
    "        api_token='eyJhcGlfYWRkcmVzcyI6Imh0dHBzOi8vdWkubmVwdHVuZS5haSIsImFwaV91cmwiOiJodHRwczovL3VpLm5lcHR1bmUuYWkiLCJhcGlfa2V5IjoiYWFkZWM0ZDgtY2EzZi00YmU4LWE2OTktMmQ3OThiNDQ4YjU1In0=',\n",
    "        project_qualified_name='shrestp/Cas13Guidescore')\n",
    "neptune.create_experiment(model_params['name'], params=model_params)\n",
    "\n"
   ]
  },
  {
   "cell_type": "code",
   "execution_count": 32,
   "id": "sunrise-magnitude",
   "metadata": {},
   "outputs": [],
   "source": [
    "#factor = factory by which the learning rate will be reduce new_lr = lr*factor\n",
    "#patience = number of epochs with no improvement after which learning rate reduces\n",
    "reduce_lr = ReduceLROnPlateau(monitor='val_loss', factor=0.1, patience=3,\n",
    "                                  min_lr=1e-6, verbose=1)\n",
    "early_stop = EarlyStopping(monitor= 'val_loss', min_delta=0, patience = 50, mode= 'auto')\n",
    "\n",
    "MAX_EPOCHS = 500\n",
    "callbacks = [NeptuneMonitor(), early_stop, reduce_lr]"
   ]
  },
  {
   "cell_type": "code",
   "execution_count": 33,
   "id": "arranged-walter",
   "metadata": {},
   "outputs": [
    {
     "name": "stdout",
     "output_type": "stream",
     "text": [
      "Epoch 1/500\n",
      "372/372 [==============================] - 13s 31ms/step - loss: 0.1346 - mean_squared_error: 0.1346 - val_loss: 0.0505 - val_mean_squared_error: 0.0505\n",
      "Epoch 2/500\n",
      "372/372 [==============================] - 11s 31ms/step - loss: 0.0690 - mean_squared_error: 0.0690 - val_loss: 0.0401 - val_mean_squared_error: 0.0401\n",
      "Epoch 3/500\n",
      "372/372 [==============================] - 11s 31ms/step - loss: 0.0654 - mean_squared_error: 0.0654 - val_loss: 0.0332 - val_mean_squared_error: 0.0332\n",
      "Epoch 4/500\n",
      "372/372 [==============================] - 11s 30ms/step - loss: 0.0656 - mean_squared_error: 0.0656 - val_loss: 0.0338 - val_mean_squared_error: 0.0338\n",
      "Epoch 5/500\n",
      "372/372 [==============================] - 12s 32ms/step - loss: 0.0607 - mean_squared_error: 0.0607 - val_loss: 0.0267 - val_mean_squared_error: 0.0267\n",
      "Epoch 6/500\n",
      "372/372 [==============================] - 12s 33ms/step - loss: 0.0600 - mean_squared_error: 0.0600 - val_loss: 0.0359 - val_mean_squared_error: 0.0359\n",
      "Epoch 7/500\n",
      "372/372 [==============================] - 12s 31ms/step - loss: 0.0605 - mean_squared_error: 0.0605 - val_loss: 0.0306 - val_mean_squared_error: 0.0306\n",
      "Epoch 8/500\n",
      "372/372 [==============================] - 11s 30ms/step - loss: 0.0603 - mean_squared_error: 0.0603 - val_loss: 0.0330 - val_mean_squared_error: 0.0330\n",
      "\n",
      "Epoch 00008: ReduceLROnPlateau reducing learning rate to 0.00010000000474974513.\n",
      "Epoch 9/500\n",
      "372/372 [==============================] - 12s 33ms/step - loss: 0.0545 - mean_squared_error: 0.0545 - val_loss: 0.0254 - val_mean_squared_error: 0.0254\n",
      "Epoch 10/500\n",
      "372/372 [==============================] - 12s 32ms/step - loss: 0.0577 - mean_squared_error: 0.0577 - val_loss: 0.0232 - val_mean_squared_error: 0.0232\n",
      "Epoch 11/500\n",
      "372/372 [==============================] - 12s 32ms/step - loss: 0.0574 - mean_squared_error: 0.0574 - val_loss: 0.0241 - val_mean_squared_error: 0.0241\n",
      "Epoch 12/500\n",
      "372/372 [==============================] - 11s 30ms/step - loss: 0.0547 - mean_squared_error: 0.0547 - val_loss: 0.0234 - val_mean_squared_error: 0.0234\n",
      "Epoch 13/500\n",
      "372/372 [==============================] - 12s 32ms/step - loss: 0.0546 - mean_squared_error: 0.0546 - val_loss: 0.0213 - val_mean_squared_error: 0.0213\n",
      "Epoch 14/500\n",
      "372/372 [==============================] - 12s 32ms/step - loss: 0.0552 - mean_squared_error: 0.0552 - val_loss: 0.0246 - val_mean_squared_error: 0.0246\n",
      "Epoch 15/500\n",
      "372/372 [==============================] - 11s 30ms/step - loss: 0.0554 - mean_squared_error: 0.0554 - val_loss: 0.0260 - val_mean_squared_error: 0.0260\n",
      "Epoch 16/500\n",
      "372/372 [==============================] - 11s 30ms/step - loss: 0.0547 - mean_squared_error: 0.0547 - val_loss: 0.0225 - val_mean_squared_error: 0.0225\n",
      "\n",
      "Epoch 00016: ReduceLROnPlateau reducing learning rate to 1.0000000474974514e-05.\n",
      "Epoch 17/500\n",
      "372/372 [==============================] - 11s 30ms/step - loss: 0.0547 - mean_squared_error: 0.0547 - val_loss: 0.0220 - val_mean_squared_error: 0.0220\n",
      "Epoch 18/500\n",
      "372/372 [==============================] - 11s 30ms/step - loss: 0.0540 - mean_squared_error: 0.0540 - val_loss: 0.0228 - val_mean_squared_error: 0.0228\n",
      "Epoch 19/500\n",
      "372/372 [==============================] - 11s 31ms/step - loss: 0.0544 - mean_squared_error: 0.0544 - val_loss: 0.0223 - val_mean_squared_error: 0.0223\n",
      "\n",
      "Epoch 00019: ReduceLROnPlateau reducing learning rate to 1.0000000656873453e-06.\n",
      "Epoch 20/500\n",
      "372/372 [==============================] - 12s 33ms/step - loss: 0.0521 - mean_squared_error: 0.0521 - val_loss: 0.0222 - val_mean_squared_error: 0.0222\n",
      "Epoch 21/500\n",
      "372/372 [==============================] - 12s 31ms/step - loss: 0.0545 - mean_squared_error: 0.0545 - val_loss: 0.0223 - val_mean_squared_error: 0.0223\n",
      "Epoch 22/500\n",
      "372/372 [==============================] - 12s 32ms/step - loss: 0.0558 - mean_squared_error: 0.0558 - val_loss: 0.0223 - val_mean_squared_error: 0.0223\n",
      "\n",
      "Epoch 00022: ReduceLROnPlateau reducing learning rate to 1e-06.\n",
      "Epoch 23/500\n",
      "372/372 [==============================] - 11s 30ms/step - loss: 0.0552 - mean_squared_error: 0.0552 - val_loss: 0.0223 - val_mean_squared_error: 0.0223\n",
      "Epoch 24/500\n",
      "372/372 [==============================] - 12s 31ms/step - loss: 0.0537 - mean_squared_error: 0.0537 - val_loss: 0.0225 - val_mean_squared_error: 0.0225\n",
      "Epoch 25/500\n",
      "372/372 [==============================] - 12s 33ms/step - loss: 0.0538 - mean_squared_error: 0.0538 - val_loss: 0.0223 - val_mean_squared_error: 0.0223\n",
      "Epoch 26/500\n",
      "372/372 [==============================] - 13s 34ms/step - loss: 0.0553 - mean_squared_error: 0.0553 - val_loss: 0.0222 - val_mean_squared_error: 0.0222\n",
      "Epoch 27/500\n",
      "372/372 [==============================] - 12s 33ms/step - loss: 0.0553 - mean_squared_error: 0.0553 - val_loss: 0.0222 - val_mean_squared_error: 0.0222\n",
      "Epoch 28/500\n",
      "372/372 [==============================] - 12s 32ms/step - loss: 0.0537 - mean_squared_error: 0.0537 - val_loss: 0.0222 - val_mean_squared_error: 0.0222\n",
      "Epoch 29/500\n",
      "372/372 [==============================] - 13s 36ms/step - loss: 0.0540 - mean_squared_error: 0.0540 - val_loss: 0.0222 - val_mean_squared_error: 0.0222\n",
      "Epoch 30/500\n",
      "372/372 [==============================] - 19s 51ms/step - loss: 0.0533 - mean_squared_error: 0.0533 - val_loss: 0.0224 - val_mean_squared_error: 0.0224\n",
      "Epoch 31/500\n",
      "372/372 [==============================] - 18s 49ms/step - loss: 0.0542 - mean_squared_error: 0.0542 - val_loss: 0.0222 - val_mean_squared_error: 0.0222\n",
      "Epoch 32/500\n",
      "372/372 [==============================] - 18s 49ms/step - loss: 0.0541 - mean_squared_error: 0.0541 - val_loss: 0.0223 - val_mean_squared_error: 0.0223\n",
      "Epoch 33/500\n",
      "372/372 [==============================] - 22s 58ms/step - loss: 0.0547 - mean_squared_error: 0.0547 - val_loss: 0.0223 - val_mean_squared_error: 0.0223\n",
      "Epoch 34/500\n",
      "372/372 [==============================] - 19s 50ms/step - loss: 0.0549 - mean_squared_error: 0.0549 - val_loss: 0.0222 - val_mean_squared_error: 0.0222\n",
      "Epoch 35/500\n",
      "372/372 [==============================] - 20s 54ms/step - loss: 0.0543 - mean_squared_error: 0.0543 - val_loss: 0.0221 - val_mean_squared_error: 0.0221\n",
      "Epoch 36/500\n",
      "372/372 [==============================] - 19s 50ms/step - loss: 0.0545 - mean_squared_error: 0.0545 - val_loss: 0.0222 - val_mean_squared_error: 0.0222\n",
      "Epoch 37/500\n",
      "372/372 [==============================] - 20s 52ms/step - loss: 0.0531 - mean_squared_error: 0.0531 - val_loss: 0.0221 - val_mean_squared_error: 0.0221\n",
      "Epoch 38/500\n",
      "372/372 [==============================] - 21s 56ms/step - loss: 0.0537 - mean_squared_error: 0.0537 - val_loss: 0.0221 - val_mean_squared_error: 0.0221\n",
      "Epoch 39/500\n",
      "372/372 [==============================] - 20s 53ms/step - loss: 0.0546 - mean_squared_error: 0.0546 - val_loss: 0.0221 - val_mean_squared_error: 0.0221\n",
      "Epoch 40/500\n",
      "372/372 [==============================] - 18s 49ms/step - loss: 0.0553 - mean_squared_error: 0.0553 - val_loss: 0.0222 - val_mean_squared_error: 0.0222\n",
      "Epoch 41/500\n",
      "372/372 [==============================] - 18s 50ms/step - loss: 0.0551 - mean_squared_error: 0.0551 - val_loss: 0.0224 - val_mean_squared_error: 0.0224\n",
      "Epoch 42/500\n",
      "372/372 [==============================] - 14s 38ms/step - loss: 0.0552 - mean_squared_error: 0.0552 - val_loss: 0.0224 - val_mean_squared_error: 0.0224\n",
      "Epoch 43/500\n",
      "372/372 [==============================] - 14s 37ms/step - loss: 0.0536 - mean_squared_error: 0.0536 - val_loss: 0.0224 - val_mean_squared_error: 0.0224\n",
      "Epoch 44/500\n",
      "372/372 [==============================] - 12s 32ms/step - loss: 0.0549 - mean_squared_error: 0.0549 - val_loss: 0.0224 - val_mean_squared_error: 0.0224\n",
      "Epoch 45/500\n",
      "372/372 [==============================] - 12s 32ms/step - loss: 0.0541 - mean_squared_error: 0.0541 - val_loss: 0.0223 - val_mean_squared_error: 0.0223\n",
      "Epoch 46/500\n",
      "372/372 [==============================] - 11s 31ms/step - loss: 0.0535 - mean_squared_error: 0.0535 - val_loss: 0.0223 - val_mean_squared_error: 0.0223\n",
      "Epoch 47/500\n",
      "372/372 [==============================] - 12s 32ms/step - loss: 0.0529 - mean_squared_error: 0.0529 - val_loss: 0.0224 - val_mean_squared_error: 0.0224\n",
      "Epoch 48/500\n",
      "372/372 [==============================] - 12s 31ms/step - loss: 0.0540 - mean_squared_error: 0.0540 - val_loss: 0.0224 - val_mean_squared_error: 0.0224\n",
      "Epoch 49/500\n",
      "372/372 [==============================] - 12s 32ms/step - loss: 0.0539 - mean_squared_error: 0.0539 - val_loss: 0.0222 - val_mean_squared_error: 0.0222\n",
      "Epoch 50/500\n",
      "372/372 [==============================] - 14s 36ms/step - loss: 0.0556 - mean_squared_error: 0.0556 - val_loss: 0.0224 - val_mean_squared_error: 0.0224\n",
      "Epoch 51/500\n",
      "372/372 [==============================] - 13s 35ms/step - loss: 0.0529 - mean_squared_error: 0.0529 - val_loss: 0.0222 - val_mean_squared_error: 0.0222\n",
      "Epoch 52/500\n",
      "372/372 [==============================] - 12s 31ms/step - loss: 0.0536 - mean_squared_error: 0.0536 - val_loss: 0.0222 - val_mean_squared_error: 0.0222\n",
      "Epoch 53/500\n",
      "372/372 [==============================] - 11s 29ms/step - loss: 0.0528 - mean_squared_error: 0.0528 - val_loss: 0.0221 - val_mean_squared_error: 0.0221\n",
      "Epoch 54/500\n",
      "372/372 [==============================] - 11s 29ms/step - loss: 0.0550 - mean_squared_error: 0.0550 - val_loss: 0.0221 - val_mean_squared_error: 0.0221\n",
      "Epoch 55/500\n",
      "372/372 [==============================] - 11s 29ms/step - loss: 0.0541 - mean_squared_error: 0.0541 - val_loss: 0.0221 - val_mean_squared_error: 0.0221\n",
      "Epoch 56/500\n",
      "372/372 [==============================] - 11s 31ms/step - loss: 0.0553 - mean_squared_error: 0.0553 - val_loss: 0.0222 - val_mean_squared_error: 0.0222\n",
      "Epoch 57/500\n",
      "372/372 [==============================] - 12s 33ms/step - loss: 0.0529 - mean_squared_error: 0.0529 - val_loss: 0.0222 - val_mean_squared_error: 0.0222\n",
      "Epoch 58/500\n",
      "372/372 [==============================] - 12s 32ms/step - loss: 0.0540 - mean_squared_error: 0.0540 - val_loss: 0.0221 - val_mean_squared_error: 0.0221\n",
      "Epoch 59/500\n",
      "372/372 [==============================] - 13s 34ms/step - loss: 0.0544 - mean_squared_error: 0.0544 - val_loss: 0.0223 - val_mean_squared_error: 0.0223\n",
      "Epoch 60/500\n",
      "372/372 [==============================] - 12s 31ms/step - loss: 0.0526 - mean_squared_error: 0.0526 - val_loss: 0.0222 - val_mean_squared_error: 0.0222\n",
      "Epoch 61/500\n",
      "372/372 [==============================] - 11s 30ms/step - loss: 0.0534 - mean_squared_error: 0.0534 - val_loss: 0.0223 - val_mean_squared_error: 0.0223\n",
      "Epoch 62/500\n",
      "372/372 [==============================] - 12s 33ms/step - loss: 0.0521 - mean_squared_error: 0.0521 - val_loss: 0.0221 - val_mean_squared_error: 0.0221\n",
      "Epoch 63/500\n",
      "372/372 [==============================] - 10s 28ms/step - loss: 0.0541 - mean_squared_error: 0.0541 - val_loss: 0.0220 - val_mean_squared_error: 0.0220\n"
     ]
    }
   ],
   "source": [
    "# fit model\n",
    "history = model.fit(\n",
    "    x_train, y_train,\n",
    "    batch_size=50,\n",
    "    epochs=MAX_EPOCHS,\n",
    "    validation_data=(x_val, y_val),\n",
    "    callbacks=callbacks\n",
    "    )"
   ]
  },
  {
   "cell_type": "markdown",
   "id": "moderate-nevada",
   "metadata": {},
   "source": [
    "### Plots"
   ]
  },
  {
   "cell_type": "code",
   "execution_count": 35,
   "id": "worthy-mercury",
   "metadata": {},
   "outputs": [
    {
     "data": {
      "image/png": "[encoded data removed]",
      "text/plain": [
       "<Figure size 432x288 with 1 Axes>"
      ]
     },
     "metadata": {
      "needs_background": "light"
     },
     "output_type": "display_data"
    }
   ],
   "source": [
    "#  \"Accuracy\"\n",
    "plt.plot(history.history['mean_squared_error'])\n",
    "plt.plot(history.history['val_mean_squared_error'])\n",
    "plt.title('Mean Squared Error Loss Plot')\n",
    "plt.ylabel('Loss')\n",
    "plt.xlabel('Epoch')\n",
    "plt.legend(['train', 'validation'], loc='upper left')\n",
    "plt.show()"
   ]
  },
  {
   "cell_type": "code",
   "execution_count": 39,
   "id": "superb-federal",
   "metadata": {},
   "outputs": [],
   "source": [
    "predict_list = model.predict(x_val).tolist()\n",
    "predictions = [item for sublist in predict_list for item in sublist]\n",
    "actual = y_val.tolist()"
   ]
  },
  {
   "cell_type": "code",
   "execution_count": 46,
   "id": "formal-egypt",
   "metadata": {
    "scrolled": false
   },
   "outputs": [
    {
     "data": {
      "image/png": "[encoded data removed]",
      "text/plain": [
       "<Figure size 432x288 with 1 Axes>"
      ]
     },
     "metadata": {
      "needs_background": "light"
     },
     "output_type": "display_data"
    }
   ],
   "source": [
    "plt.title(\"Guide Score Predictions versus actual Guide Score Plot\")\n",
    "plt.scatter(predictions, actual, s=2, c = 'crimson')\n",
    "plt.ylabel('P Values')\n",
    "plt.xlabel('Predictions')\n",
    "p1 = max(max(predictions), max(actual))\n",
    "p2 = min(min(predictions), min(actual))\n",
    "plt.plot([p1, p2], [p1, p2], 'b-')\n",
    "plt.xlabel('True Values', fontsize=15)\n",
    "plt.ylabel('Predictions', fontsize=15)\n",
    "plt.axis('equal')\n",
    "#plt.savefig('final_mfe_predictions.png')\n",
    "plt.show()"
   ]
  },
  {
   "cell_type": "markdown",
   "id": "subjective-belief",
   "metadata": {},
   "source": [
    "Plot difference in Predictions versus Actual Guide Score"
   ]
  },
  {
   "cell_type": "code",
   "execution_count": 41,
   "id": "durable-warehouse",
   "metadata": {},
   "outputs": [],
   "source": [
    "differences = []\n",
    "for i in range (len(actual)):\n",
    "    differences.append(actual[i] - predictions[i])"
   ]
  },
  {
   "cell_type": "code",
   "execution_count": 42,
   "id": "collectible-congress",
   "metadata": {},
   "outputs": [
    {
     "data": {
      "text/plain": [
       "Text(0, 0.5, 'Differences')"
      ]
     },
     "execution_count": 42,
     "metadata": {},
     "output_type": "execute_result"
    },
    {
     "data": {
      "image/png": "[encoded data removed]",
      "text/plain": [
       "<Figure size 432x288 with 1 Axes>"
      ]
     },
     "metadata": {
      "needs_background": "light"
     },
     "output_type": "display_data"
    }
   ],
   "source": [
    "plt.title(\"Difference between predicted and actual Guide Score \")\n",
    "plt.plot(differences, marker='o',linestyle='', c='crimson', markersize=2)\n",
    "plt.ylabel('Differences')\n",
    "#plt.savefig('final_mfe_prediction_differences.png')"
   ]
  },
  {
   "cell_type": "code",
   "execution_count": 43,
   "id": "otherwise-hydrogen",
   "metadata": {},
   "outputs": [
    {
     "name": "stdout",
     "output_type": "stream",
     "text": [
      "Model: \"sequential\"\n",
      "_________________________________________________________________\n",
      "Layer (type)                 Output Shape              Param #   \n",
      "=================================================================\n",
      "lstm (LSTM)                  (None, 23, 200)           165600    \n",
      "_________________________________________________________________\n",
      "conv1d (Conv1D)              (None, 18, 10)            12010     \n",
      "_________________________________________________________________\n",
      "conv1d_1 (Conv1D)            (None, 16, 20)            620       \n",
      "_________________________________________________________________\n",
      "global_max_pooling1d (Global (None, 20)                0         \n",
      "_________________________________________________________________\n",
      "dense (Dense)                (None, 100)               2100      \n",
      "_________________________________________________________________\n",
      "dense_1 (Dense)              (None, 1)                 101       \n",
      "=================================================================\n",
      "Total params: 180,431\n",
      "Trainable params: 180,431\n",
      "Non-trainable params: 0\n",
      "_________________________________________________________________\n"
     ]
    }
   ],
   "source": [
    "model.summary()"
   ]
  },
  {
   "cell_type": "code",
   "execution_count": null,
   "id": "fossil-philippines",
   "metadata": {},
   "outputs": [],
   "source": []
  }
 ],
 "metadata": {
  "kernelspec": {
   "display_name": "Python 3",
   "language": "python",
   "name": "python3"
  },
  "language_info": {
   "codemirror_mode": {
    "name": "ipython",
    "version": 3
   },
   "file_extension": ".py",
   "mimetype": "text/x-python",
   "name": "python",
   "nbconvert_exporter": "python",
   "pygments_lexer": "ipython3",
   "version": "3.8.2"
  }
 },
 "nbformat": 4,
 "nbformat_minor": 5
}
